{
  "nbformat": 4,
  "nbformat_minor": 0,
  "metadata": {
    "colab": {
      "name": "Mnist.ipynb",
      "provenance": [],
      "collapsed_sections": [],
      "include_colab_link": true
    },
    "kernelspec": {
      "name": "python3",
      "display_name": "Python 3"
    }
  },
  "cells": [
    {
      "cell_type": "markdown",
      "metadata": {
        "id": "view-in-github",
        "colab_type": "text"
      },
      "source": [
        "<a href=\"https://colab.research.google.com/github/sudhir2016/Google-Colab-2/blob/master/Mnist.ipynb\" target=\"_parent\"><img src=\"https://colab.research.google.com/assets/colab-badge.svg\" alt=\"Open In Colab\"/></a>"
      ]
    },
    {
      "cell_type": "markdown",
      "metadata": {
        "id": "JdWyEKTLopPT",
        "colab_type": "text"
      },
      "source": [
        "This is a very simple example of building and training a neural network for MNIST dataset using TensorFlow 2.0 and Keras."
      ]
    },
    {
      "cell_type": "markdown",
      "metadata": {
        "id": "vxBidPIGs15N",
        "colab_type": "text"
      },
      "source": [
        "Load TensorFlow 2.0, Keras and Python libraries."
      ]
    },
    {
      "cell_type": "code",
      "metadata": {
        "id": "6cjlILGdoTII",
        "colab_type": "code",
        "colab": {}
      },
      "source": [
        "%tensorflow_version 2.x\n",
        "import tensorflow as tf\n",
        "from tensorflow import keras\n",
        "import numpy as np\n",
        "import matplotlib.pyplot as plt\n",
        "print(tf.__version__)"
      ],
      "execution_count": 0,
      "outputs": []
    },
    {
      "cell_type": "markdown",
      "metadata": {
        "id": "h2EefCAmtS0z",
        "colab_type": "text"
      },
      "source": [
        "**Download training and test data.**"
      ]
    },
    {
      "cell_type": "markdown",
      "metadata": {
        "id": "5KL4op8N1obN",
        "colab_type": "text"
      },
      "source": [
        "**x1,y1,x2 and y2 represent as follows**\n",
        "\n",
        "x1 is 60,000 training images as 28x28 pixel images with each pixel having an integer value from 0-255\n",
        "\n",
        "y1 is 60,000 training labels, one for each of the training images with each label having an integer value from 0-9 corresponding to the digits from 0-9 that each of the images represent.\n",
        "\n",
        "x2 is 10,000 test images as 28x28 pixel images with each pixel having an integer value from 0-255\n",
        "\n",
        "y2 is 10,000 test labels, one for each of the test images with each label having an integer value from 0-9 corresponding to the digits from 0-9 that each of the images represent."
      ]
    },
    {
      "cell_type": "code",
      "metadata": {
        "id": "Le2NfyB7oqXi",
        "colab_type": "code",
        "colab": {}
      },
      "source": [
        "mnist = keras.datasets.mnist\n",
        "\n",
        "(x1, y1), (x2, y2) = mnist.load_data()"
      ],
      "execution_count": 0,
      "outputs": []
    },
    {
      "cell_type": "markdown",
      "metadata": {
        "id": "m5_0Lf84KZiu",
        "colab_type": "text"
      },
      "source": [
        "Preprocess the data."
      ]
    },
    {
      "cell_type": "code",
      "metadata": {
        "id": "XZCNINf1KeFA",
        "colab_type": "code",
        "colab": {}
      },
      "source": [
        "x1=x1/255.0\n",
        "x2=x2/255.0"
      ],
      "execution_count": 0,
      "outputs": []
    },
    {
      "cell_type": "markdown",
      "metadata": {
        "id": "lKSR-pjcwgoP",
        "colab_type": "text"
      },
      "source": [
        "Explore data"
      ]
    },
    {
      "cell_type": "code",
      "metadata": {
        "id": "A85lxe-YtI00",
        "colab_type": "code",
        "colab": {}
      },
      "source": [
        "x1.shape"
      ],
      "execution_count": 0,
      "outputs": []
    },
    {
      "cell_type": "code",
      "metadata": {
        "id": "k3VDG8P6HZp8",
        "colab_type": "code",
        "colab": {}
      },
      "source": [
        "y1.shape"
      ],
      "execution_count": 0,
      "outputs": []
    },
    {
      "cell_type": "code",
      "metadata": {
        "id": "cCNJQ7_ZxCu4",
        "colab_type": "code",
        "colab": {}
      },
      "source": [
        "x2.shape"
      ],
      "execution_count": 0,
      "outputs": []
    },
    {
      "cell_type": "code",
      "metadata": {
        "id": "0qD_hvRoxd_g",
        "colab_type": "code",
        "colab": {}
      },
      "source": [
        "y2.shape"
      ],
      "execution_count": 0,
      "outputs": []
    },
    {
      "cell_type": "code",
      "metadata": {
        "id": "Yl7kB00ouV8o",
        "colab_type": "code",
        "colab": {}
      },
      "source": [
        "\n",
        "plt.imshow(x1[10])"
      ],
      "execution_count": 0,
      "outputs": []
    },
    {
      "cell_type": "markdown",
      "metadata": {
        "id": "u_dJDBKf7RP0",
        "colab_type": "text"
      },
      "source": [
        "Build the model"
      ]
    },
    {
      "cell_type": "code",
      "metadata": {
        "id": "gx94n7pM1lBR",
        "colab_type": "code",
        "colab": {}
      },
      "source": [
        "model = keras.Sequential([\n",
        "    keras.layers.Flatten(input_shape=(28, 28)),\n",
        "    keras.layers.Dense(128, activation='relu'),\n",
        "    keras.layers.Dense(10, activation='softmax')\n",
        "])"
      ],
      "execution_count": 0,
      "outputs": []
    },
    {
      "cell_type": "markdown",
      "metadata": {
        "id": "og_KyfW47mzM",
        "colab_type": "text"
      },
      "source": [
        "Compile the model\n"
      ]
    },
    {
      "cell_type": "code",
      "metadata": {
        "id": "kMjQFtK4Ke8s",
        "colab_type": "code",
        "colab": {}
      },
      "source": [
        "model.compile(optimizer='adam',loss='sparse_categorical_crossentropy',metrics=['accuracy'])"
      ],
      "execution_count": 0,
      "outputs": []
    },
    {
      "cell_type": "markdown",
      "metadata": {
        "id": "plcv-_k47xXI",
        "colab_type": "text"
      },
      "source": [
        "Train the model"
      ]
    },
    {
      "cell_type": "code",
      "metadata": {
        "id": "31jXSm4OMlLB",
        "colab_type": "code",
        "colab": {}
      },
      "source": [
        "model.fit(x1,y1,epochs=10)"
      ],
      "execution_count": 0,
      "outputs": []
    },
    {
      "cell_type": "markdown",
      "metadata": {
        "id": "IWNcH8ub7591",
        "colab_type": "text"
      },
      "source": [
        "Evaluate the model"
      ]
    },
    {
      "cell_type": "code",
      "metadata": {
        "id": "QWoHTETOSloe",
        "colab_type": "code",
        "colab": {}
      },
      "source": [
        "model.evaluate(x2,y2)"
      ],
      "execution_count": 0,
      "outputs": []
    },
    {
      "cell_type": "markdown",
      "metadata": {
        "id": "EQChm_M48Daq",
        "colab_type": "text"
      },
      "source": [
        "Make predictions"
      ]
    },
    {
      "cell_type": "code",
      "metadata": {
        "id": "ra0qLga0VwmW",
        "colab_type": "code",
        "colab": {}
      },
      "source": [
        "p=model.predict(x1)"
      ],
      "execution_count": 0,
      "outputs": []
    },
    {
      "cell_type": "markdown",
      "metadata": {
        "id": "Aw-u4kVS8LMd",
        "colab_type": "text"
      },
      "source": [
        "Verify prediction"
      ]
    },
    {
      "cell_type": "code",
      "metadata": {
        "id": "fv5SfVRjV8MQ",
        "colab_type": "code",
        "colab": {}
      },
      "source": [
        "p[15]"
      ],
      "execution_count": 0,
      "outputs": []
    },
    {
      "cell_type": "code",
      "metadata": {
        "id": "IkFoWe-LXkzg",
        "colab_type": "code",
        "colab": {}
      },
      "source": [
        "plt.imshow(x1[15])"
      ],
      "execution_count": 0,
      "outputs": []
    }
  ]
}